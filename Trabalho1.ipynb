{
 "cells": [
  {
   "cell_type": "markdown",
   "id": "c5b45b5f-c0bb-4589-a1df-cfbb7b77d4d1",
   "metadata": {},
   "source": [
    "#### Nome: Thiago Henrique Moireira Santos\n",
    "#### Matrícula: 2019007074"
   ]
  },
  {
   "cell_type": "markdown",
   "id": "6ed63113-5065-428e-b908-67f6821edab8",
   "metadata": {
    "jp-MarkdownHeadingCollapsed": true
   },
   "source": [
    "## Imports"
   ]
  },
  {
   "cell_type": "code",
   "execution_count": 412,
   "id": "be2a0a21-bdac-48c5-81a5-f270f5a1faba",
   "metadata": {},
   "outputs": [],
   "source": [
    "# ConvexHull será usado para testar se minha implementação ConvexHull está correta\n",
    "from scipy.spatial import ConvexHull, convex_hull_plot_2d\n",
    "import numpy as np\n",
    "import matplotlib.pyplot as plt\n",
    "import math\n",
    "import random"
   ]
  },
  {
   "cell_type": "markdown",
   "id": "b39e2296-87a7-4628-bf96-f36ce8232a50",
   "metadata": {
    "jp-MarkdownHeadingCollapsed": true
   },
   "source": [
    "## Primitivas Geométricas"
   ]
  },
  {
   "cell_type": "code",
   "execution_count": 403,
   "id": "76a4133c-0649-417b-81f1-389fd325fbaf",
   "metadata": {},
   "outputs": [],
   "source": [
    "# # Método que calcula a posição relativa entre dois pontos\n",
    "# def direcao(p1, p2, p3):\n",
    "#     '''\n",
    "#         Retorna o sinal do cross product dos vetores formados por p1-p2 e p1-p3\n",
    "#     '''\n",
    "#     return (p2[0] - p1[0]) * (p3[1] - p1[1]) - (p2[1] - p1[1]) * (p3[0] - p1[0])\n",
    "\n",
    "# # Calcula a distância ao quadrado entre os pontos\n",
    "# def distancia(p1, p2):\n",
    "#     return (p2[0] - p1[0]) ** 2 + (p2[1] - p1[1]) ** 2\n",
    "\n",
    "\n",
    "def intersecaoSegmentos(s1, s2):\n",
    "    '''\n",
    "        Retorna verdadeiro se os dois segmentos se interceptam.\n",
    "        Segmentos são representados na forma de tuplas de tuplas.\n",
    "            ((x1, y1), (x2, y2))\n",
    "    '''\n",
    "    d1 = direcao(s1[0], s1[1], s2[0])\n",
    "    d2 = direcao(s1[0], s1[1], s2[1])\n",
    "    d3 = direcao(s2[0], s2[1], s1[0])\n",
    "    d4 = direcao(s2[0], s2[1], s1[1])\n",
    "    if d1 * d2 < 0 and d3 * d4 < 0:\n",
    "        return True\n",
    "        \n",
    "    elif d1 == 0 and min(s1[0][0], s1[1][0]) <= s2[0][0] <= max(s1[0][0], s1[1][0]) and min(s1[0][1], s1[1][1]) <= s2[0][1] <= max(s1[0][1], s1[1][1]):\n",
    "        return True\n",
    "        \n",
    "    elif d2 == 0 and min(s1[0][0], s1[1][0]) <= s2[1][0] <= max(s1[0][0], s1[1][0]) and min(s1[0][1], s[11]) <= s[21]<= max(s[10], s[11]):\n",
    "        return True\n",
    "    \n",
    "    elif d3 == 0 and min(s2[0][0], s2[11]) <= s[10] <= max(s[20], s[21]) and min(s[20], s[21]) <= s[11]<= max(s[20], s[21]):\n",
    "        return True\n",
    "    \n",
    "    elif d4 == 0 and min(s2[00], s[21]) <= s[11] <= max(s[20], s[21]) and min(s[20], s[21]) <= s[11] <= max(s[20], s[21]):\n",
    "        return True\n",
    "    \n",
    "    else:\n",
    "        return False"
   ]
  },
  {
   "cell_type": "code",
   "execution_count": 365,
   "id": "0e90c69d-4996-4988-836a-f58bd4fd8c38",
   "metadata": {},
   "outputs": [
    {
     "name": "stdout",
     "output_type": "stream",
     "text": [
      "True\n",
      "False\n"
     ]
    }
   ],
   "source": [
    "# Alguns testes para as primitivas\n",
    "p1 = (0,0)\n",
    "p2 = (3,0)\n",
    "p3 = (1,3)\n",
    "p4 = (1,5)\n",
    "\n",
    "print(intersecaoSegmentos((p1, p2), (p1, p3)))\n",
    "print(intersecaoSegmentos((p1, p2), (p3, p4)))"
   ]
  },
  {
   "cell_type": "markdown",
   "id": "648ae449-f8ad-467b-a5bb-284848494a3a",
   "metadata": {
    "jp-MarkdownHeadingCollapsed": true
   },
   "source": [
    "## Métodos Auxiliares"
   ]
  },
  {
   "cell_type": "code",
   "execution_count": 411,
   "id": "bc3a72d9-167f-4164-a5f0-7abe243481aa",
   "metadata": {},
   "outputs": [],
   "source": [
    "def scatter_plot(coords,convex_hull=None):\n",
    "    xs, ys = zip(*coords,)\n",
    "    plt.scatter(xs, ys)\n",
    "\n",
    "    if convex_hull != None:\n",
    "        for i in range (1, len(convex_hull)+1):\n",
    "            if i == len(convex_hull): i = 0\n",
    "            c0 = convex_hull[i-1]\n",
    "            c1 = convex_hull[i]\n",
    "            plt.plot((c0[0],c1[0]),(c0[1],c1[1]),'r')\n",
    "    plt.show()\n",
    "\n",
    "# Produto vetorial entre dois pontos\n",
    "def cross_product(p1, p2):\n",
    "    return p1[0] * p2[1] - p1[1] * p2[0]\n",
    "\n",
    "# Método para encontrar o ponto âncora na \n",
    "def findAcnhor(points):\n",
    "    anchor = points[0]\n",
    "\n",
    "      # Ponto com menor coordenada x e menor coordenada y\n",
    "    for i in range(0, len(points)):\n",
    "        if ((points[i][1] < anchor[1]) or (points[i][1] == anchor[1] and points[i][0] < anchor[0])):\n",
    "            anchor = points[i]\n",
    "            index = i\n",
    "    return anchor \n",
    "\n",
    "# Função para comparar dois pontos pelo ângulo polar em relação a um ponto de referência\n",
    "def compara(p1, p2):\n",
    "    d = direcao(anchor, p1, p2)\n",
    "    if d==0:\n",
    "        if (distancia(anchor, p1) <= distancia(anchor, p2)):\n",
    "            return 1\n",
    "        else:\n",
    "            return -1\n",
    "    else:\n",
    "        if d>0:\n",
    "            return 1\n",
    "        else:\n",
    "            return -1\n",
    "\n",
    "def generate_linearly_separable_points(n, m):\n",
    "  '''\n",
    "      Generates two sets of linearly separable points in a square with side length 100.\n",
    "        Gera dois conjuntos linearmente separáveis com coords dentro do intervalo [0, 100]\n",
    "      \n",
    "      Args:\n",
    "        n: Número de pontos no primeiro conjunto.\n",
    "        m: Número de pontos no segundo conjunto.\n",
    "  '''\n",
    "\n",
    "  # Escolha um ponto qualquer como o ponto de referência.\n",
    "  reference_point = (random.uniform(0, 100), random.uniform(0, 100))\n",
    "\n",
    "  # Cria dois conjuntos de pontos vazios.\n",
    "  points1 = []\n",
    "  points2 = []\n",
    "\n",
    "  # Para cada ponto no primeiro conjunto, verifique se o ponto está do mesmo lado do ponto de referência que o ponto mais distante do ponto de referência no segundo conjunto.\n",
    "  for point in range(n):\n",
    "    x = random.uniform(0, 100)\n",
    "    y = random.uniform(0, 100)\n",
    "\n",
    "    # Calcula o produto vetorial entre o ponto de referência e o ponto.\n",
    "    cross_product = (reference_point[0] - x) * (reference_point[1] - y)\n",
    "\n",
    "    # Se o produto vetorial for positivo, o ponto está do mesmo lado do ponto de referência que o ponto mais distante do ponto de referência no segundo conjunto.\n",
    "    if cross_product > 0:\n",
    "      points2.append((x, y))\n",
    "    else:\n",
    "      points1.append((x, y))\n",
    "\n",
    "  return points1, points2"
   ]
  },
  {
   "cell_type": "markdown",
   "id": "e10829df-3708-4ccf-ba32-858c05edd628",
   "metadata": {
    "jp-MarkdownHeadingCollapsed": true
   },
   "source": [
    "## Conjunto de pontos usado para desenvolvimento"
   ]
  },
  {
   "cell_type": "markdown",
   "id": "ef8a4b94-c26b-46c9-a089-16fb2632e78a",
   "metadata": {},
   "source": [
    "Estes dois conjuntos foram gerados utilizando a biblioteca de geração de números aleatórios do Numpy ( https://numpy.org/doc/stable/reference/random/generator.html )"
   ]
  },
  {
   "cell_type": "code",
   "execution_count": 367,
   "id": "bce1d581-1f51-4d23-843e-3869d40bd2e8",
   "metadata": {},
   "outputs": [],
   "source": [
    "pontos = [[0.22688949, 0.24343388],\n",
    "       [0.67727389, 0.93778218],\n",
    "       [0.16187889, 0.0871253 ],\n",
    "       [0.58984928, 0.03058331],\n",
    "       [0.38976821, 0.77255991],\n",
    "       [0.55006227, 0.6502655 ],\n",
    "       [0.09104538, 0.43095735],\n",
    "       [0.29435282, 0.2270053 ],\n",
    "       [0.12145934, 0.81931098],\n",
    "       [0.15332234, 0.24762428],\n",
    "       [0.11374118, 0.29527192],\n",
    "       [0.52699039, 0.3824048 ],\n",
    "       [0.57357704, 0.3869051 ],\n",
    "       [0.88246149, 0.99901381],\n",
    "       [0.73670403, 0.59667429],\n",
    "       [0.25657022, 0.20150738],\n",
    "       [0.06542711, 0.50015123],\n",
    "       [0.97753058, 0.24244226],\n",
    "       [0.95022235, 0.04687435],\n",
    "       [0.15773529, 0.94463369],\n",
    "       [0.72967653, 0.47814532],\n",
    "       [0.3053088 , 0.24342219],\n",
    "       [0.81815759, 0.07870696],\n",
    "       [0.90724394, 0.91664122],\n",
    "       [0.96367738, 0.03285879],\n",
    "       [0.89858141, 0.4375507 ],\n",
    "       [0.11452501, 0.18145962],\n",
    "       [0.52919786, 0.92133511],\n",
    "       [0.81945931, 0.25545877],\n",
    "       [0.45421507, 0.68889127]]"
   ]
  },
  {
   "cell_type": "code",
   "execution_count": 368,
   "id": "9caf2e76-6adb-461a-bade-7c966d00a70a",
   "metadata": {},
   "outputs": [],
   "source": [
    "pontos2 = [[0.7410842,  0.78191236],\n",
    " [0.84390475, 0.33168499],\n",
    " [0.70635126, 0.08835168],\n",
    " [0.67924467, 0.63662898],\n",
    " [0.41037585, 0.73205173],\n",
    " [0.68841872, 0.13267472],\n",
    " [0.72303464, 0.32740132],\n",
    " [0.23980089, 0.71377673],\n",
    " [0.35227052, 0.70189628],\n",
    " [0.63266119, 0.43650198],\n",
    " [0.8391399,  0.23355931],\n",
    " [0.34933823, 0.01512277],\n",
    " [0.35890664, 0.5577776 ],\n",
    " [0.3884205,  0.99798723],\n",
    " [0.81050503, 0.98322865],\n",
    " [0.25380914, 0.29042159],\n",
    " [0.73314733, 0.01166414],\n",
    " [0.65047954, 0.15743713],\n",
    " [0.04242211, 0.87198078],\n",
    " [0.57105585, 0.50322786],\n",
    " [0.86281375, 0.88832513],\n",
    " [0.18500193, 0.13823983],\n",
    " [0.4174539,  0.1675967 ],\n",
    " [0.82490925, 0.79377457],\n",
    " [0.6048473,  0.23342215],\n",
    " [0.36826778, 0.33399363],\n",
    " [0.52937346, 0.708423  ],\n",
    " [0.05475651, 0.17621432],\n",
    " [0.05951312, 0.54846091],\n",
    " [0.56286141, 0.64304644]]"
   ]
  },
  {
   "cell_type": "markdown",
   "id": "2af029fb-9b76-4c43-84e9-a32fb66a1842",
   "metadata": {},
   "source": [
    "## Primeira Tentativa: Varredura de Graham"
   ]
  },
  {
   "cell_type": "code",
   "execution_count": 369,
   "id": "db188ecb-780f-4624-9942-4831750584b1",
   "metadata": {},
   "outputs": [],
   "source": [
    "def graham(points):\n",
    "    global anchor\n",
    "    anchor = findAcnhor(points)\n",
    "    \n",
    "    sorted_points = sorted(points, key=cmp_to_key(compara))\n",
    "\n",
    "    stack = []\n",
    "    stack.append(sorted_points[0])\n",
    "    stack.append(sorted_points[1])\n",
    "    stack.append(sorted_points[2])\n",
    "\n",
    "    for i in range(3, len(sorted_points)):\n",
    "        while (direcao(stack[-2], stack[-1], sorted_points[i]) > 0):\n",
    "            stack.pop()\n",
    "        stack.append(sorted_points[i])\n",
    "\n",
    "    return stack"
   ]
  },
  {
   "cell_type": "markdown",
   "id": "9a96e15e-806d-406a-a4a8-42cc8ef43ceb",
   "metadata": {},
   "source": [
    "Infelizmente essa abordagem que tentei está com algum problema que não conseguir descobrir. Inclusive, eu quase não percebi o problema porque é bem sutil. Foi apenas quando eu rodei o algoritmo para o seguinte conjunto de pontos que percebi que tinha alguma coisa errada acontecendo e foi aí que comecei a investigar (até esse momento, estava funcionando corretamente para os outros testes que eu havia feito)"
   ]
  },
  {
   "cell_type": "code",
   "execution_count": 370,
   "id": "666fbb04-1e93-429f-aaa3-7469d8525e5a",
   "metadata": {},
   "outputs": [],
   "source": [
    "envoltoria_teste = graham(pontos2)"
   ]
  },
  {
   "cell_type": "code",
   "execution_count": 371,
   "id": "933ca561-78da-49db-961f-c971bccc2d99",
   "metadata": {},
   "outputs": [
    {
     "data": {
      "image/png": "[encoded data removed]",
      "text/plain": [
       "<Figure size 640x480 with 1 Axes>"
      ]
     },
     "metadata": {},
     "output_type": "display_data"
    }
   ],
   "source": [
    "scatter_plot(pontos2, envoltoria_teste)"
   ]
  },
  {
   "cell_type": "markdown",
   "id": "efdc9b3b-2961-41a6-887d-56d411c22cec",
   "metadata": {},
   "source": [
    "Visilmente um dos pontos na parte inferior esquerda não deveria fazer parte da envoltória convexa... "
   ]
  },
  {
   "cell_type": "markdown",
   "id": "514dd42d-e109-494e-9afa-4d62386fcf3d",
   "metadata": {},
   "source": [
    "## Segunda Tentativa: Gift Wrapping"
   ]
  },
  {
   "cell_type": "raw",
   "id": "a2466804-19ca-4e17-be47-9978c414ceda",
   "metadata": {},
   "source": [
    "Depois de passar um bom tempo debugando a \"Varredura de Graham\" sem sucesso, achei que seria melhor tentar outra abordagem e foi então que tentei utilizar o algoritmo de Embtulho pra presente. Com essa abordagem, consegui obter sucesso e ter os mesmos resultados do que é retornado pelo método do numpy que encontra a envoltória convexa para um conjunto de pontos."
   ]
  },
  {
   "cell_type": "code",
   "execution_count": 401,
   "id": "66eed75c-403f-4365-8722-2e8273b7d121",
   "metadata": {},
   "outputs": [],
   "source": [
    "def orientation(p, q, r):\n",
    "    '''\n",
    "        Retorna a orientação de 3 pontos\n",
    "    '''\n",
    "    val = (q[1] - p[1]) * (r[0] - q[0]) - \\\n",
    "        (q[0] - p[0]) * (r[1] - q[1])\n",
    "    if val == 0:\n",
    "        return 0\n",
    "    return 1 if val > 0 else 2\n",
    "\n",
    "\n",
    "def distance(p, q):\n",
    "    '''\n",
    "        Retorna a distância entre dois pontos\n",
    "    '''\n",
    "    return (q[1] - p[1])**2 + (q[0] - p[0])**2\n",
    "\n",
    "def gift_wrapping(points):\n",
    "    '''\n",
    "        Retorna a envoltória convexa de um conjunto de pontos\n",
    "    '''\n",
    "    # Encontra o ponto mais a esquerda\n",
    "    leftmost = min(points, key=lambda x: x[0])\n",
    "    hull = [leftmost]\n",
    "    current = leftmost\n",
    "    while True:\n",
    "        next = points[0]\n",
    "        for p in points:\n",
    "            if p == current:\n",
    "                continue\n",
    "            turn = orientation(current, next, p)\n",
    "            if turn == 1 or (turn == 0 and distance(current, p) > distance(current, next)):\n",
    "                next = p\n",
    "        if next == leftmost:\n",
    "            break\n",
    "        hull.append(next)\n",
    "        current = next\n",
    "    return hull\n"
   ]
  },
  {
   "cell_type": "code",
   "execution_count": 376,
   "id": "dff488a2-7e31-49c3-bf85-32557ed4ace4",
   "metadata": {},
   "outputs": [
    {
     "data": {
      "image/png": "[encoded data removed]",
      "text/plain": [
       "<Figure size 640x480 with 1 Axes>"
      ]
     },
     "metadata": {},
     "output_type": "display_data"
    },
    {
     "data": {
      "image/png": "[encoded data removed]",
      "text/plain": [
       "<Figure size 640x480 with 1 Axes>"
      ]
     },
     "metadata": {},
     "output_type": "display_data"
    }
   ],
   "source": [
    "# Usando método do Numpy\n",
    "convex_hull_plot_2d(ConvexHull(pontos))\n",
    "convex_hull_plot_2d(ConvexHull(pontos2))\n",
    "plt.show()"
   ]
  },
  {
   "cell_type": "code",
   "execution_count": 381,
   "id": "69605070-14fd-48a7-820e-dcc1ab2584fa",
   "metadata": {},
   "outputs": [],
   "source": [
    "# Usando minha implementação do embrulho para presente.\n",
    "envoltoria_teste1 = gift_wrapping(pontos)\n",
    "envoltoria_teste2 = gift_wrapping(pontos2)"
   ]
  },
  {
   "cell_type": "code",
   "execution_count": 378,
   "id": "eee0ba0f-ea3d-4c08-8d72-afcc883df819",
   "metadata": {},
   "outputs": [
    {
     "data": {
      "image/png": "[encoded data removed]",
      "text/plain": [
       "<Figure size 640x480 with 1 Axes>"
      ]
     },
     "metadata": {},
     "output_type": "display_data"
    }
   ],
   "source": [
    "scatter_plot(pontos, envoltoria_teste1)"
   ]
  },
  {
   "cell_type": "code",
   "execution_count": 380,
   "id": "af8919d5-3ac9-44df-96e1-1c1d753f3af6",
   "metadata": {},
   "outputs": [
    {
     "data": {
      "image/png": "[encoded data removed]",
      "text/plain": [
       "<Figure size 640x480 with 1 Axes>"
      ]
     },
     "metadata": {},
     "output_type": "display_data"
    }
   ],
   "source": [
    "scatter_plot(pontos2, envoltoria_teste2)"
   ]
  },
  {
   "cell_type": "code",
   "execution_count": 383,
   "id": "da4504a2-f72b-4329-b444-7fe186f1a31f",
   "metadata": {},
   "outputs": [
    {
     "name": "stdout",
     "output_type": "stream",
     "text": [
      "[[0.88246149 0.99901381]\n",
      " [0.15773529 0.94463369]\n",
      " [0.12145934 0.81931098]\n",
      " [0.06542711 0.50015123]\n",
      " [0.11452501 0.18145962]\n",
      " [0.16187889 0.0871253 ]\n",
      " [0.58984928 0.03058331]\n",
      " [0.96367738 0.03285879]\n",
      " [0.97753058 0.24244226]\n",
      " [0.90724394 0.91664122]]\n",
      "\n",
      "\n",
      "\n",
      "[[0.04242211 0.87198078]\n",
      " [0.05475651 0.17621432]\n",
      " [0.34933823 0.01512277]\n",
      " [0.73314733 0.01166414]\n",
      " [0.8391399  0.23355931]\n",
      " [0.84390475 0.33168499]\n",
      " [0.86281375 0.88832513]\n",
      " [0.81050503 0.98322865]\n",
      " [0.3884205  0.99798723]]\n"
     ]
    }
   ],
   "source": [
    "# Numericamente\n",
    "# Resultado usando a biblioteca numpy\n",
    "hull = ConvexHull(np.array(pontos))\n",
    "hull_points = np.array(pontos)[hull.vertices]\n",
    "print(hull_points)\n",
    "\n",
    "print(\"\\n\\n\")\n",
    "\n",
    "hull2 = ConvexHull(np.array(pontos2))\n",
    "hull_points2 = np.array(pontos2)[hull2.vertices]\n",
    "print(hull_points2)"
   ]
  },
  {
   "cell_type": "code",
   "execution_count": 384,
   "id": "dbfcca31-1671-4393-91e6-d58920a6b93e",
   "metadata": {},
   "outputs": [
    {
     "name": "stdout",
     "output_type": "stream",
     "text": [
      "[[0.06542711, 0.50015123], [0.11452501, 0.18145962], [0.16187889, 0.0871253], [0.58984928, 0.03058331], [0.96367738, 0.03285879], [0.97753058, 0.24244226], [0.90724394, 0.91664122], [0.88246149, 0.99901381], [0.15773529, 0.94463369], [0.12145934, 0.81931098]]\n",
      "\n",
      "\n",
      "\n",
      "[[0.04242211, 0.87198078], [0.05475651, 0.17621432], [0.34933823, 0.01512277], [0.73314733, 0.01166414], [0.8391399, 0.23355931], [0.84390475, 0.33168499], [0.86281375, 0.88832513], [0.81050503, 0.98322865], [0.3884205, 0.99798723]]\n"
     ]
    }
   ],
   "source": [
    "# Resultado usando o embrulho para presente\n",
    "print(envoltoria_teste1)\n",
    "print(\"\\n\\n\")\n",
    "print(envoltoria_teste2)"
   ]
  },
  {
   "cell_type": "markdown",
   "id": "9613d63d-4a3a-45d2-982a-ff63b0a2d8b4",
   "metadata": {},
   "source": [
    "Fiz alguns plots para ilustrar alguns cenários que pode"
   ]
  },
  {
   "cell_type": "markdown",
   "id": "d1efcb8e-c41c-48e2-9f3a-52d2a0330c48",
   "metadata": {},
   "source": [
    "## Varredura Linear para verificação de separabilidade"
   ]
  },
  {
   "cell_type": "markdown",
   "id": "d2aea655-e15c-43a8-a2f5-917701768a34",
   "metadata": {},
   "source": [
    "Tendo um meio para construir as envoltórias para os conjuntos de pontos, o próximo passo agora é conseguir verificar se dois conjuntos são linearmente separáveis ou não sob a ótica do modelo que queremos criar (encontrando as envoltórias dos conjuntos).\n",
    "\n",
    "Para isso, primeiro temos que gerar o segmento de reta que une as duas envoltórias, ese segmento deve ser gerado a partir dos pontos mais próximos entre as duas envoltórias. Depois "
   ]
  },
  {
   "cell_type": "code",
   "execution_count": 404,
   "id": "66eddbc0-1928-4715-95a2-ce5a0b2e06a1",
   "metadata": {},
   "outputs": [],
   "source": [
    "# A primeira coisa a se fazer é verificar se há intersecção entre os segmentos\n",
    "#que formam as duas envoltórias\n",
    "envoltoria1 = gift_wrapping(pontos)\n",
    "envoltoria2 = gift_wrapping(pontos2)"
   ]
  },
  {
   "cell_type": "code",
   "execution_count": 405,
   "id": "a17e7d52-90b1-4698-88bd-e2ea8435d0e6",
   "metadata": {},
   "outputs": [],
   "source": [
    "# Método para verificar se a intersecção ocorre sobre o segmento.\n",
    "def onSegment(p0, p1, p2):\n",
    "    if (min(p0[0], p1[0]) <= p2[0] <= max(p0[0], p1[0]) and\n",
    "            min(p0[1], p1[1]) <= p2[1] <= max(p0[1], p1[1])):\n",
    "        return True\n",
    "    else:\n",
    "        return False\n",
    "\n",
    "def intersecao(p1, p2, p3, p4):\n",
    "    d1 = direcao(p3, p4, p1)\n",
    "    d2 = direcao(p3, p4, p2)\n",
    "    d3 = direcao(p1, p2, p3)\n",
    "    d4 = direcao(p1, p2, p4)\n",
    "\n",
    "    if (((d1 > 0 and d2 < 0) or (d1 < 0 and d2 > 0)) and\n",
    "            ((d3 > 0 and d4 < 0) or (d3 < 0 and d4 > 0))):\n",
    "        return True\n",
    "    elif (d1 == 0 and onSegment(p3, p4, p1)):\n",
    "        return True\n",
    "    elif (d2 == 0 and onSegment(p3, p4, p2)):\n",
    "        return True\n",
    "    elif (d3 == 0 and onSegment(p1, p2, p3)):\n",
    "        return True\n",
    "    elif (d4 == 0 and onSegment(p1, p2, p4)):\n",
    "        return True\n",
    "    else:\n",
    "        return False\n",
    "\n",
    "\n",
    "# Transformando o retorno da envoltória em um conjunto de segmentos\n",
    "def envoltoriaParaSegmentos(envoltoria):\n",
    "    segmentos = []\n",
    "    for i in range(0, len(envoltoria) - 1):\n",
    "        segmentos.append((envoltoria[i], envoltoria[i + 1]))\n",
    "    segmentos.append((envoltoria[-1], envoltoria[0]))\n",
    "    return segmentos\n",
    "\n",
    "# Verifica se há intersecção entre os segmentos da envoltória\n",
    "def verificaIntersecao(envoltoria1, envoltoria2):\n",
    "    segmentos1 = envoltoriaParaSegmentos(envoltoria1)\n",
    "    segmentos2 = envoltoriaParaSegmentos(envoltoria2)\n",
    "\n",
    "    for s1 in segmentos1:\n",
    "        for s2 in segmentos2:\n",
    "            if intersecao(s1[0], s1[1], s2[0], s2[1]):\n",
    "                return True\n",
    "    return False\n",
    "\n",
    "# # Verifica se há intersecção entre as duas envoltórias\n",
    "# def verificaIntersecaoEnvoltorias(envoltoria1, envoltoria2):\n",
    "#     if verificaIntersecao(envoltoria1, envoltoria2):\n",
    "#         return True\n",
    "#     else:\n",
    "#         return False"
   ]
  },
  {
   "cell_type": "code",
   "execution_count": 408,
   "id": "8a55ff99-60ef-49b9-9691-648c048c1be4",
   "metadata": {},
   "outputs": [
    {
     "data": {
      "text/plain": [
       "True"
      ]
     },
     "execution_count": 408,
     "metadata": {},
     "output_type": "execute_result"
    }
   ],
   "source": [
    "# Fazendo o teste\n",
    "verificaIntersecao(envoltoria1, envoltoria2)"
   ]
  },
  {
   "cell_type": "markdown",
   "id": "c987806f-5a18-4749-a181-f250c5d5a68b",
   "metadata": {},
   "source": [
    "#### Visualização para facilitar a percepção do caso"
   ]
  },
  {
   "cell_type": "code",
   "execution_count": 409,
   "id": "cde31fd1-a193-4858-aedb-d0c2e05a2d44",
   "metadata": {},
   "outputs": [
    {
     "data": {
      "image/png": "[encoded data removed]",
      "text/plain": [
       "<Figure size 640x480 with 1 Axes>"
      ]
     },
     "metadata": {},
     "output_type": "display_data"
    }
   ],
   "source": [
    "plt.scatter(np.array(pontos)[:,0], np.array(pontos)[:,1], color='red')\n",
    "plt.scatter(np.array(pontos2)[:,0], np.array(pontos2)[:,1], color='blue')\n",
    "\n",
    "# Plotando as envoltórias\n",
    "plt.plot(np.array(envoltoria1)[:,0], np.array(envoltoria1)[:,1], color='green')\n",
    "plt.plot(np.array(envoltoria2)[:,0], np.array(envoltoria2)[:,1], color='black')\n",
    "\n",
    "# Adicionando segmento faltante que liga o último ponto da envoltória 1 com o primeiro\n",
    "# ponto da envoltoria 1\n",
    "plt.plot([envoltoria1[-1][0], envoltoria1[0][0]], [envoltoria1[-1][1], envoltoria1[0][1]], color='green')\n",
    "\n",
    "# Adicionando segmento faltante que liga o último ponto da envoltória 2 com o primeiro\n",
    "# ponto da envoltoria 2\n",
    "plt.plot([envoltoria2[-1][0], envoltoria2[0][0]], [envoltoria2[-1][1], envoltoria2[0][1]], color='black')\n",
    "\n",
    "\n",
    "plt.show()\n",
    "\n"
   ]
  },
  {
   "cell_type": "code",
   "execution_count": 422,
   "id": "85ee8965-d701-4ee4-b094-f2f559c1c426",
   "metadata": {},
   "outputs": [
    {
     "name": "stdout",
     "output_type": "stream",
     "text": [
      "[(93.24003540996011, 14.118986536099264), (48.36461512646911, 56.41437680939069), (68.89726273720055, 15.18413333593388), (48.280779177573166, 7.621790839785037), (68.87194834873037, 28.056666713462242), (32.477819054324456, 77.03746165266527)]\n",
      "[(0.6220952757936438, 26.38715775733711), (26.340849875946148, 22.97124723755909), (14.499275086539642, 54.87414134132648), (14.189457546882188, 16.667536133701567)]\n"
     ]
    }
   ],
   "source": [
    "#pontos3, pontos4 = generate_linearly_separable_points(10, 10)\n",
    "# Os conjuntos de pontos foram gerados com a chamada do método acima\n",
    "pontos3 = [(93.24003540996011, 14.118986536099264), (48.36461512646911, 56.41437680939069), (68.89726273720055, 15.18413333593388), (48.280779177573166, 7.621790839785037), (68.87194834873037, 28.056666713462242), (32.477819054324456, 77.03746165266527)]\n",
    "pontos4 = [(0.6220952757936438, 26.38715775733711), (26.340849875946148, 22.97124723755909), (14.499275086539642, 54.87414134132648), (14.189457546882188, 16.667536133701567)]\n",
    "print(pontos3)\n",
    "print(pontos4)"
   ]
  },
  {
   "cell_type": "code",
   "execution_count": 423,
   "id": "ff6d48e6-5493-4cf0-b877-7287629dd63c",
   "metadata": {},
   "outputs": [],
   "source": [
    "# Gerando mais duas envoltórias (para fins de teste) desta vez com um conjuntos criados para serem separáveis\n",
    "envoltoria3 = gift_wrapping(pontos3)\n",
    "envoltoria4 = gift_wrapping(pontos4)"
   ]
  },
  {
   "cell_type": "code",
   "execution_count": 424,
   "id": "13871a0e-c729-45fb-bfe1-563177cb00ec",
   "metadata": {},
   "outputs": [
    {
     "data": {
      "image/png": "[encoded data removed]",
      "text/plain": [
       "<Figure size 640x480 with 1 Axes>"
      ]
     },
     "metadata": {},
     "output_type": "display_data"
    }
   ],
   "source": [
    "plt.scatter(np.array(pontos3)[:,0], np.array(pontos3)[:,1], color='red')\n",
    "plt.scatter(np.array(pontos4)[:,0], np.array(pontos4)[:,1], color='blue')\n",
    "\n",
    "# Plotando as envoltórias\n",
    "plt.plot(np.array(envoltoria3)[:,0], np.array(envoltoria3)[:,1], color='green')\n",
    "plt.plot(np.array(envoltoria4)[:,0], np.array(envoltoria4)[:,1], color='black')\n",
    "\n",
    "# Adicionando segmento faltante que liga o último ponto da envoltória 1 com o primeiro\n",
    "# ponto da envoltoria 1\n",
    "plt.plot([envoltoria3[-1][0], envoltoria3[0][0]], [envoltoria3[-1][1], envoltoria3[0][1]], color='green')\n",
    "\n",
    "# Adicionando segmento faltante que liga o último ponto da envoltória 2 com o primeiro\n",
    "# ponto da envoltoria 2\n",
    "plt.plot([envoltoria4[-1][0], envoltoria4[0][0]], [envoltoria4[-1][1], envoltoria4[0][1]], color='black')\n",
    "\n",
    "\n",
    "plt.show()\n",
    "\n"
   ]
  },
  {
   "cell_type": "code",
   "execution_count": 425,
   "id": "5ff51914-e319-40ec-ad17-62a4f4fb7d77",
   "metadata": {},
   "outputs": [
    {
     "data": {
      "text/plain": [
       "False"
      ]
     },
     "execution_count": 425,
     "metadata": {},
     "output_type": "execute_result"
    }
   ],
   "source": [
    "# Fazendo o teste\n",
    "verificaIntersecao(envoltoria3, envoltoria4)"
   ]
  },
  {
   "cell_type": "markdown",
   "id": "44383911-e37a-4105-9bdc-13f349f852ed",
   "metadata": {},
   "source": [
    "## Construção do Modelo de Classificação"
   ]
  },
  {
   "cell_type": "markdown",
   "id": "2b732b50-d12c-4ec7-858a-c0723cdf1167",
   "metadata": {},
   "source": [
    "Mais um passo concluído, agora é possível determinar se dois conjuntos de dados são separáveis, o que nos permite avançar no processo\n",
    "de construção do modelo. A próxima coisa a ser feita é gerar o segmento de reta que une as duas envoltórias, esse segmento deve ser formado pelos pontos mais próximos entre elas e depois disso, para gerar o modelo, temos que traçar uma reta que é perpendicular a esse segmento."
   ]
  },
  {
   "cell_type": "code",
   "execution_count": 504,
   "id": "28005c31-6a15-4dc1-949d-1c08ff2ab1a6",
   "metadata": {},
   "outputs": [],
   "source": [
    "# Para criar a reta perpendicular, vamos criar uma função que recebe dois pontos e retorna\n",
    "# a reta perpendicular que passa pelo ponto médio do segmento de reta que liga os dois pontos\n",
    "mid_x = 0\n",
    "\n",
    "def perpendicular(p1, p2):\n",
    "    '''\n",
    "        Retorna a reta perpendicular ao segmento de reta que liga os pontos p1 e p2\n",
    "    '''\n",
    "    # Encontra o ponto médio do segmento de reta que liga os pontos p1 e p2\n",
    "    x = (p1[0] + p2[0]) / 2\n",
    "    y = (p1[1] + p2[1]) / 2\n",
    "    mid_x = x\n",
    "\n",
    "    # Coeficiente angular da reta que liga os pontos p1 e p2\n",
    "    m = (p2[1] - p1[1]) / (p2[0] - p1[0])\n",
    "\n",
    "    # Ceficiente angular da reta perpendicular\n",
    "    m_perpendicular = -1 / m\n",
    "\n",
    "    # 'b' da Eq da reta\n",
    "    b = y - m_perpendicular * x\n",
    "\n",
    "    # Por fim, vamos retornar a reta perpendicular\n",
    "    return (m_perpendicular, b) \n",
    "\n",
    "\n",
    "# Agora, vamos criar uma função que recebe duas envoltórias e retorna a reta que separa\n",
    "# os dois conjuntos de pontos\n",
    "\n",
    "def separating_line(hull1, hull2):\n",
    "    '''\n",
    "        Retorna a reta que separa os dois conjuntos de pontos\n",
    "    '''\n",
    "    # Primeiro, vamos encontrar os pontos mais próximos das duas envoltórias\n",
    "    p1 = hull1[0]\n",
    "    p2 = hull2[0]\n",
    "    for i in range(len(hull1)):\n",
    "        for j in range(len(hull2)):\n",
    "            if distance(hull1[i], hull2[j]) < distance(p1, p2):\n",
    "                p1 = hull1[i]\n",
    "                p2 = hull2[j]\n",
    "\n",
    "    # Agora, vamos encontrar a reta perpendicular ao segmento de reta que liga os pontos p1 e p2\n",
    "    m, b = perpendicular(p1, p2)\n",
    "\n",
    "    # Por fim, vamos retornar a reta que separa os dois conjuntos de pontos\n",
    "    return (m, b)\n",
    "\n",
    "\n",
    "\n"
   ]
  },
  {
   "cell_type": "code",
   "execution_count": 431,
   "id": "12128932-fac8-4783-8815-d8dd5ee2f2ca",
   "metadata": {},
   "outputs": [
    {
     "data": {
      "text/plain": [
       "(1.4293619743308108, -38.03414047718782)"
      ]
     },
     "execution_count": 431,
     "metadata": {},
     "output_type": "execute_result"
    }
   ],
   "source": [
    "# Pontos mais próximos entre as duas envoltórias (retorno: coeficientes da equação da reta)\n",
    "separating_line(envoltoria3, envoltoria4)"
   ]
  },
  {
   "cell_type": "code",
   "execution_count": 437,
   "id": "6870417c-abf1-4500-ad2f-743c91e80164",
   "metadata": {},
   "outputs": [
    {
     "data": {
      "image/png": "[encoded data removed]",
      "text/plain": [
       "<Figure size 640x480 with 1 Axes>"
      ]
     },
     "metadata": {},
     "output_type": "display_data"
    }
   ],
   "source": [
    "fig, ax = plt.subplots()\n",
    "\n",
    "plt.scatter(np.array(pontos3)[:,0], np.array(pontos3)[:,1], color='red')\n",
    "plt.scatter(np.array(pontos4)[:,0], np.array(pontos4)[:,1], color='blue')\n",
    "\n",
    "# Plotando as envoltórias\n",
    "plt.plot(np.array(envoltoria3)[:,0], np.array(envoltoria3)[:,1], color='green')\n",
    "plt.plot(np.array(envoltoria4)[:,0], np.array(envoltoria4)[:,1], color='black')\n",
    "\n",
    "# Adicionando segmento faltante que liga o último ponto da envoltória 1 com o primeiro\n",
    "# ponto da envoltoria 1\n",
    "plt.plot([envoltoria3[-1][0], envoltoria3[0][0]], [envoltoria3[-1][1], envoltoria3[0][1]], color='green')\n",
    "\n",
    "# Adicionando segmento faltante que liga o último ponto da envoltória 2 com o primeiro\n",
    "# ponto da envoltoria 2\n",
    "plt.plot([envoltoria4[-1][0], envoltoria4[0][0]], [envoltoria4[-1][1], envoltoria4[0][1]], color='black')\n",
    "\n",
    "# Plotando segmento de reta que liga os pontos mais próximos das duas envoltórias\n",
    "p1 = envoltoria3[0]\n",
    "p2 = envoltoria4[0]\n",
    "for i in range(len(envoltoria3)):\n",
    "    for j in range(len(envoltoria4)):\n",
    "        if distance(envoltoria3[i], envoltoria4[j]) < distance(p1, p2):\n",
    "            p1 = envoltoria3[i]\n",
    "            p2 = envoltoria4[j]\n",
    "plt.plot([p1[0], p2[0]], [p1[1], p2[1]], color='black')\n",
    "\n",
    "\n",
    "# Plotando a reta que passa por cima do segmento de reta que liga os pontos mais próximos das duas envoltórias\n",
    "m, b = perpendicular(p1, p2)\n",
    "x = np.linspace(-20, 100)\n",
    "y = m * x + b\n",
    "plt.plot(x, y, color='black')\n",
    "\n",
    "ax.set_aspect('equal')\n",
    "\n",
    "plt.show()\n",
    "\n"
   ]
  },
  {
   "cell_type": "markdown",
   "id": "9f701fe8-575f-4943-87e8-66e66e018c61",
   "metadata": {},
   "source": [
    "Com isso temos a conclusão da criação do modelo. No caso, já podemos perceber que o modelo não será tão preciso. Já nesta imagem preliminar de um teste podemos ver que alguns pontos estão acima, mas ainda assim pertencem a \"classe verde\".\n",
    "\n",
    "A ideia de criação do método para obter um par de features conveniente \"funcionou\"... Na prática, funcionou mesmo, o problema é que não temos garantia de que esse é o par que trará os melhores resultados. Como não é pré-requisito do trabalho \"obter as melhores métricas\" possíveis para as bases de dados, não será uma coisa que tentarei algum tipo de \"workaround\". Mas, para fins de registro, se este fosse um requisito do trabalho, eu alteraria meu método para não parar ao encontrar o primeiro par de features que que gera dois conjuntos linearmente separáveis, testaria todos os pares e para cad um que fosse separável, geraria o modelo e computaria as métricas. \n",
    "\n",
    "Tudo que resta a fazer para terminar o modelo de fato é criar uma forma de determinar se um dado ponto qualquer está acima ou abaixo da reta."
   ]
  },
  {
   "cell_type": "code",
   "execution_count": 465,
   "id": "c79dd345-2b0e-491b-86cb-05943a3c4fe1",
   "metadata": {},
   "outputs": [],
   "source": [
    "def predict(ponto, m, b):\n",
    "    '''\n",
    "        Retorna 1 se o ponto está acima da reta que separa os dois conjuntos de pontos e 0 caso\n",
    "        contrário\n",
    "    '''\n",
    "    if ponto[1] > m * ponto[0] + b:\n",
    "        return 1\n",
    "    else:\n",
    "        return 0\n"
   ]
  },
  {
   "cell_type": "markdown",
   "id": "8469dcb6-6040-49d0-857b-1389a4a5a0fd",
   "metadata": {},
   "source": [
    "## Análises e Métricas"
   ]
  },
  {
   "cell_type": "markdown",
   "id": "09933eae-783d-41b4-b626-8f77b8603cac",
   "metadata": {},
   "source": [
    "Um dos desafios dessa parte é que a maioria dos conjuntos de dados não são linearmente separáveis e nesses casos nosso modelo não funciona nada bem. Por conta disso, o que vamos fazer é testar todos os pares de features de um dado conjunto até obter um par de features que seja  linearmente separável entre si. Para isso, vamos criar uma função que recebe um conjunto de dados, testa todos os pares de features e retorna um par de features que gere um conjunto de dados linearmente separáveis ou retorne None caso isso não seja possível."
   ]
  },
  {
   "cell_type": "code",
   "execution_count": 541,
   "id": "92961b45-c6d4-40e9-bd43-e3b7d8b420c5",
   "metadata": {},
   "outputs": [],
   "source": [
    "from sklearn.datasets import load_iris\n",
    "from sklearn.model_selection import train_test_split\n",
    "from sklearn.metrics import precision_score, recall_score, f1_score\n",
    "\n",
    "import pandas as pd\n",
    "import itertools"
   ]
  },
  {
   "cell_type": "markdown",
   "id": "2d5ed4a8-da15-4a85-b831-77e51872c59f",
   "metadata": {},
   "source": [
    "#### Teste 1: Base Iris"
   ]
  },
  {
   "cell_type": "code",
   "execution_count": 566,
   "id": "39bd5252-d5eb-4440-9f67-c28d3cb027c7",
   "metadata": {},
   "outputs": [
    {
     "data": {
      "text/html": [
       "<div>\n",
       "<style scoped>\n",
       "    .dataframe tbody tr th:only-of-type {\n",
       "        vertical-align: middle;\n",
       "    }\n",
       "\n",
       "    .dataframe tbody tr th {\n",
       "        vertical-align: top;\n",
       "    }\n",
       "\n",
       "    .dataframe thead th {\n",
       "        text-align: right;\n",
       "    }\n",
       "</style>\n",
       "<table border=\"1\" class=\"dataframe\">\n",
       "  <thead>\n",
       "    <tr style=\"text-align: right;\">\n",
       "      <th></th>\n",
       "      <th>sepal length (cm)</th>\n",
       "      <th>sepal width (cm)</th>\n",
       "      <th>petal length (cm)</th>\n",
       "      <th>petal width (cm)</th>\n",
       "      <th>target</th>\n",
       "    </tr>\n",
       "  </thead>\n",
       "  <tbody>\n",
       "    <tr>\n",
       "      <th>0</th>\n",
       "      <td>6.8</td>\n",
       "      <td>3.0</td>\n",
       "      <td>5.5</td>\n",
       "      <td>2.1</td>\n",
       "      <td>2</td>\n",
       "    </tr>\n",
       "    <tr>\n",
       "      <th>1</th>\n",
       "      <td>5.6</td>\n",
       "      <td>3.0</td>\n",
       "      <td>4.1</td>\n",
       "      <td>1.3</td>\n",
       "      <td>1</td>\n",
       "    </tr>\n",
       "    <tr>\n",
       "      <th>2</th>\n",
       "      <td>5.6</td>\n",
       "      <td>3.0</td>\n",
       "      <td>4.5</td>\n",
       "      <td>1.5</td>\n",
       "      <td>1</td>\n",
       "    </tr>\n",
       "    <tr>\n",
       "      <th>3</th>\n",
       "      <td>6.7</td>\n",
       "      <td>3.1</td>\n",
       "      <td>5.6</td>\n",
       "      <td>2.4</td>\n",
       "      <td>2</td>\n",
       "    </tr>\n",
       "    <tr>\n",
       "      <th>4</th>\n",
       "      <td>5.1</td>\n",
       "      <td>3.5</td>\n",
       "      <td>1.4</td>\n",
       "      <td>0.3</td>\n",
       "      <td>0</td>\n",
       "    </tr>\n",
       "  </tbody>\n",
       "</table>\n",
       "</div>"
      ],
      "text/plain": [
       "   sepal length (cm)  sepal width (cm)  petal length (cm)  petal width (cm)  \\\n",
       "0                6.8               3.0                5.5               2.1   \n",
       "1                5.6               3.0                4.1               1.3   \n",
       "2                5.6               3.0                4.5               1.5   \n",
       "3                6.7               3.1                5.6               2.4   \n",
       "4                5.1               3.5                1.4               0.3   \n",
       "\n",
       "   target  \n",
       "0       2  \n",
       "1       1  \n",
       "2       1  \n",
       "3       2  \n",
       "4       0  "
      ]
     },
     "execution_count": 566,
     "metadata": {},
     "output_type": "execute_result"
    }
   ],
   "source": [
    "# A primeira base de dados que será utilizada será a base iris.\n",
    "\n",
    "# Carregando a base de dados iris\n",
    "iris = load_iris()\n",
    "\n",
    "# Dividindo a base de dados em treino e teste (70%/30%)\n",
    "X_train, X_test, y_train, y_test = train_test_split(iris.data, iris.target, test_size=0.3)\n",
    "\n",
    "# Criando um dataframe com os dados de treino\n",
    "df_train = pd.DataFrame(X_train, columns=iris.feature_names)\n",
    "df_train['target'] = y_train\n",
    "\n",
    "# Criando um dataframe com os dados de teste\n",
    "df_test = pd.DataFrame(X_test, columns=iris.feature_names)\n",
    "df_test['target'] = y_test\n",
    "\n",
    "df_train.head()"
   ]
  },
  {
   "cell_type": "code",
   "execution_count": 567,
   "id": "9dbd7c32-7d2d-4768-998a-3ca4f779569e",
   "metadata": {},
   "outputs": [],
   "source": [
    "def linearly_separable(df):\n",
    "    '''\n",
    "        Retorna um par de features que gera um conjunto de dados linearmente separável se for possível.\n",
    "    '''\n",
    "\n",
    "    valor_retorno = None\n",
    "    \n",
    "    # Primeiro, vamos criar uma lista com todos os pares de features\n",
    "    pares = []\n",
    "    for i in range(len(df.columns) - 1):\n",
    "        for j in range(i + 1, len(df.columns) - 1):\n",
    "            pares.append((df.columns[i], df.columns[j]))\n",
    "\n",
    "    # Agora, vamos testar todos os pares de features até obter um par de features que gera um\n",
    "    # conjunto de dados linearmente separável\n",
    "    for par in pares:\n",
    "        # Criando os conjuntos de pontos\n",
    "        pontos1 = []\n",
    "        pontos2 = []\n",
    "        for i in range(len(df)):\n",
    "            if df['target'][i] == 0:\n",
    "                pontos1.append((df[par[0]][i], df[par[1]][i]))\n",
    "            else:\n",
    "                pontos2.append((df[par[0]][i], df[par[1]][i]))\n",
    "\n",
    "        \n",
    "        # Criando as envoltórias convexas\n",
    "        envoltoria3 = gift_wrapping(pontos1)\n",
    "        envoltoria4 = gift_wrapping(pontos2)\n",
    "\n",
    "        \n",
    "        # Verificando se as envoltórias convexas se interceptam\n",
    "        if not verificaIntersecaoEnvoltorias(envoltoria3, envoltoria4):\n",
    "            # Se não se interceptam, então o conjunto de dados é linearmente separável\n",
    "            valor_retorno = par\n",
    "            break\n",
    "\n",
    "\n",
    "    #df.head()\n",
    "    #print(pontos1)\n",
    "    #print(pontos2)\n",
    "\n",
    "    # Também vou retornar o os dois conjuntos de pontos para o caso em que encontrar\n",
    "    # para não precisar de fazer toda a lógica de plot do gráfico dentro do método\n",
    "    # Esse retorno é necessário porque o escopo destes conjuntos é local\n",
    "\n",
    "    # O mesmo vale para as envoltórias\n",
    "    return valor_retorno, pontos1, pontos2, envoltoria3, envoltoria4"
   ]
  },
  {
   "cell_type": "code",
   "execution_count": 568,
   "id": "44bc616d-d124-4d5e-b790-19727cfc88ea",
   "metadata": {},
   "outputs": [
    {
     "data": {
      "text/plain": [
       "('sepal length (cm)', 'sepal width (cm)')"
      ]
     },
     "execution_count": 568,
     "metadata": {},
     "output_type": "execute_result"
    }
   ],
   "source": [
    "par, pontos1, pontos2, envoltoria3, envoltoria4 = linearly_separable(df_train)\n",
    "par"
   ]
  },
  {
   "cell_type": "code",
   "execution_count": 570,
   "id": "637e3ef6-4fc6-44a3-9437-fbb27797a143",
   "metadata": {},
   "outputs": [],
   "source": [
    "# Temos que separar as classes que queremos classificar\n",
    "def separa_classes(df, classe1, classe2):\n",
    "    '''\n",
    "        Retorna um dataframe com apenas as classes que queremos classificar\n",
    "    '''\n",
    "    df = df[(df['target'] == classe1) | (df['target'] == classe2)]\n",
    "    return df\n",
    "\n",
    "# Agora temos que gerar os pontos. Vamos ter dois conjuntos, um em que o target é 0 e outro em \n",
    "# que o target é 1\n",
    "def gera_pontos(df, classe1, classe2):\n",
    "    '''\n",
    "        Retorna dois conjuntos de pontos\n",
    "    '''\n",
    "    pontos1 = []\n",
    "    pontos2 = []\n",
    "    for i in range(len(df)):\n",
    "        if df['target'][i] == classe1:\n",
    "            pontos1.append((df[par[0]][i], df[par[1]][i]))\n",
    "        else:\n",
    "            pontos2.append((df[par[0]][i], df[par[1]][i]))\n",
    "    return pontos1, pontos2\n",
    "\n",
    "# Temos agora que ter uma forma de rotular os pontos de acordo com a reta que separa os dois\n",
    "# sed o ponto está acima da reta, então o target é 1, caso contrário, o target é 0\n",
    "\n",
    "def rotula_pontos(pontos, m, b):\n",
    "    '''\n",
    "        Retorna uma lista com os targets dos pontos\n",
    "    '''\n",
    "    targets = []\n",
    "    for ponto in pontos:\n",
    "        targets.append(predict(ponto, m, b))\n",
    "    return targets\n"
   ]
  },
  {
   "cell_type": "code",
   "execution_count": 578,
   "id": "ea03243e-b217-4d07-86a2-56abb832a4b4",
   "metadata": {
    "scrolled": true
   },
   "outputs": [
    {
     "data": {
      "text/html": [
       "<div>\n",
       "<style scoped>\n",
       "    .dataframe tbody tr th:only-of-type {\n",
       "        vertical-align: middle;\n",
       "    }\n",
       "\n",
       "    .dataframe tbody tr th {\n",
       "        vertical-align: top;\n",
       "    }\n",
       "\n",
       "    .dataframe thead th {\n",
       "        text-align: right;\n",
       "    }\n",
       "</style>\n",
       "<table border=\"1\" class=\"dataframe\">\n",
       "  <thead>\n",
       "    <tr style=\"text-align: right;\">\n",
       "      <th></th>\n",
       "      <th>sepal length (cm)</th>\n",
       "      <th>sepal width (cm)</th>\n",
       "      <th>petal length (cm)</th>\n",
       "      <th>petal width (cm)</th>\n",
       "      <th>target</th>\n",
       "    </tr>\n",
       "  </thead>\n",
       "  <tbody>\n",
       "    <tr>\n",
       "      <th>63</th>\n",
       "      <td>6.1</td>\n",
       "      <td>2.9</td>\n",
       "      <td>4.7</td>\n",
       "      <td>1.4</td>\n",
       "      <td>1</td>\n",
       "    </tr>\n",
       "    <tr>\n",
       "      <th>67</th>\n",
       "      <td>5.8</td>\n",
       "      <td>2.7</td>\n",
       "      <td>4.1</td>\n",
       "      <td>1.0</td>\n",
       "      <td>1</td>\n",
       "    </tr>\n",
       "    <tr>\n",
       "      <th>62</th>\n",
       "      <td>6.0</td>\n",
       "      <td>2.2</td>\n",
       "      <td>4.0</td>\n",
       "      <td>1.0</td>\n",
       "      <td>1</td>\n",
       "    </tr>\n",
       "    <tr>\n",
       "      <th>5</th>\n",
       "      <td>5.4</td>\n",
       "      <td>3.9</td>\n",
       "      <td>1.7</td>\n",
       "      <td>0.4</td>\n",
       "      <td>0</td>\n",
       "    </tr>\n",
       "    <tr>\n",
       "      <th>94</th>\n",
       "      <td>5.6</td>\n",
       "      <td>2.7</td>\n",
       "      <td>4.2</td>\n",
       "      <td>1.3</td>\n",
       "      <td>1</td>\n",
       "    </tr>\n",
       "  </tbody>\n",
       "</table>\n",
       "</div>"
      ],
      "text/plain": [
       "    sepal length (cm)  sepal width (cm)  petal length (cm)  petal width (cm)  \\\n",
       "63                6.1               2.9                4.7               1.4   \n",
       "67                5.8               2.7                4.1               1.0   \n",
       "62                6.0               2.2                4.0               1.0   \n",
       "5                 5.4               3.9                1.7               0.4   \n",
       "94                5.6               2.7                4.2               1.3   \n",
       "\n",
       "    target  \n",
       "63       1  \n",
       "67       1  \n",
       "62       1  \n",
       "5        0  \n",
       "94       1  "
      ]
     },
     "execution_count": 578,
     "metadata": {},
     "output_type": "execute_result"
    }
   ],
   "source": [
    "df_sep = separa_classes(df_train, 0, 1)\n",
    "df_sep.head()"
   ]
  },
  {
   "cell_type": "code",
   "execution_count": 580,
   "id": "3878c65b-5775-4bb9-b1fd-fd9557efd110",
   "metadata": {},
   "outputs": [],
   "source": [
    "envoltoria3 = gift_wrapping(pontos1)\n",
    "envoltoria4 = gift_wrapping(pontos2)"
   ]
  },
  {
   "cell_type": "code",
   "execution_count": null,
   "id": "a0363529-55ae-4bba-a825-e989de39cc0a",
   "metadata": {},
   "outputs": [],
   "source": [
    "rotula_pontos()"
   ]
  },
  {
   "cell_type": "markdown",
   "id": "3708aff7-ec11-4e83-a2aa-1c2b1546b7c3",
   "metadata": {},
   "source": [
    "#### Gráfico com o resultado final do modelo para a base de dados"
   ]
  },
  {
   "cell_type": "code",
   "execution_count": 576,
   "id": "f88fa30b-872d-4c8a-a8ea-e9beb8809417",
   "metadata": {},
   "outputs": [
    {
     "data": {
      "image/png": "[encoded data removed]",
      "text/plain": [
       "<Figure size 640x480 with 1 Axes>"
      ]
     },
     "metadata": {},
     "output_type": "display_data"
    }
   ],
   "source": [
    "# Encontra o valor mínimo e o máximo de x no primeiro conjunto.\n",
    "min_x1 = min(p[0] for p in pontos1)\n",
    "max_x1 = max(p[0] for p in pontos1)\n",
    "\n",
    "# Encontra o valor mínimo e o máximo de x no segundo conjunto.\n",
    "min_x2 = min(p[0] for p in pontos2)\n",
    "max_x2 = max(p[0] for p in pontos2)\n",
    "\n",
    "# Retorna o valor mínimo e o máximo de x.\n",
    "x_min = min(min_x1, min_x2)\n",
    "x_max = max(max_x1, max_x2)\n",
    "\n",
    "\n",
    "fig, ax = plt.subplots()\n",
    "\n",
    "\n",
    "plt.scatter(np.array(pontos1)[:,0], np.array(pontos1)[:,1], color='red')\n",
    "plt.scatter(np.array(pontos2)[:,0], np.array(pontos2)[:,1], color='blue')\n",
    "\n",
    "# Plotando as envoltórias\n",
    "plt.plot(np.array(envoltoria3)[:,0], np.array(envoltoria3)[:,1], color='green')\n",
    "plt.plot(np.array(envoltoria4)[:,0], np.array(envoltoria4)[:,1], color='black')\n",
    "\n",
    "# Adicionando segmento faltante que liga o último ponto da envoltória 1 com o primeiro\n",
    "# ponto da envoltoria 1\n",
    "plt.plot([envoltoria3[-1][0], envoltoria3[0][0]], [envoltoria3[-1][1], envoltoria3[0][1]], color='green')\n",
    "\n",
    "# Adicionando segmento faltante que liga o último ponto da envoltória 2 com o primeiro\n",
    "# ponto da envoltoria 2\n",
    "plt.plot([envoltoria4[-1][0], envoltoria4[0][0]], [envoltoria4[-1][1], envoltoria4[0][1]], color='black')\n",
    "\n",
    "# Plotando segmento de reta que liga os pontos mais próximos das duas envoltórias\n",
    "p1 = envoltoria3[0]\n",
    "p2 = envoltoria4[0]\n",
    "for i in range(len(envoltoria3)):\n",
    "    for j in range(len(envoltoria4)):\n",
    "        if distance(envoltoria3[i], envoltoria4[j]) < distance(p1, p2):\n",
    "            p1 = envoltoria3[i]\n",
    "            p2 = envoltoria4[j]\n",
    "plt.plot([p1[0], p2[0]], [p1[1], p2[1]], color='black')\n",
    "\n",
    "\n",
    "# Plotando a reta que passa por cima do segmento de reta que liga os pontos mais próximos das duas envoltórias\n",
    "m, b = perpendicular(p1, p2)\n",
    "x = np.linspace(x_min, x_max)\n",
    "y = m * x + b\n",
    "plt.plot(x, y, color='black')\n",
    "\n",
    "# ax.set_aspect('equal')\n",
    "\n",
    "\n",
    "plt.show()"
   ]
  },
  {
   "cell_type": "markdown",
   "id": "0b93392b-0434-4c5f-bc1c-fb78f8d4ede9",
   "metadata": {},
   "source": [
    "#### Computando as métricas"
   ]
  },
  {
   "cell_type": "markdown",
   "id": "183356f7-0e67-4352-be68-cc64f905a3eb",
   "metadata": {},
   "source": [
    "Infelizmente não consegui progredir a partir deste ponto. Demorei muito para entender como seria a parte da criação do modelo (e ainda hoje não tenho certeza se entendi direito). O meu entendimento final, foi de que eu deveria utilizar a reta gerada, que separa os dois conjuntos de dados, para rotular os dados (os de teste e os de treino).\n",
    "\n",
    "No caso, o que eu tentei fazer foi dividir a base de dados (Iris a princípio) em conjunto de teste e treino, utilizei um método que construi para encontrar um par de features linearmente separáveis. Depois fiz um pré-processamento nos dados para retirar as classes que não fossem as que eu queria tentar prever com o modelo, nos testes que eu fiz, deixei apenas as classes 0 e 1.\n",
    "\n",
    "A grande problema veio na hora de testar o modelo com o cojunto de testes. Quando apliquei o modelo (equação da reta) para os pontos do conjutno de testes, obtive resultados inesperados (e alguns erros), com a dificuldade e entender essa parte ( e com o tempo que me restou ) não consegui resolver problema.\n",
    "\n",
    "De todo modo, o presente notebook conta com o processo de criação do modelo até onde fui capaz de fazer, com o todo o processo de criação documentado a partir de comentários em código e \"células markdown\"."
   ]
  }
 ],
 "metadata": {
  "kernelspec": {
   "display_name": "Python 3 (ipykernel)",
   "language": "python",
   "name": "python3"
  },
  "language_info": {
   "codemirror_mode": {
    "name": "ipython",
    "version": 3
   },
   "file_extension": ".py",
   "mimetype": "text/x-python",
   "name": "python",
   "nbconvert_exporter": "python",
   "pygments_lexer": "ipython3",
   "version": "3.10.12"
  }
 },
 "nbformat": 4,
 "nbformat_minor": 5
}
